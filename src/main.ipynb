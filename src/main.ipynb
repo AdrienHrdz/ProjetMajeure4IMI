{
 "cells": [
  {
   "cell_type": "code",
   "execution_count": 1,
   "metadata": {},
   "outputs": [],
   "source": [
    "import asymetrie\n",
    "import bords\n",
    "import couleur\n",
    "import diametre\n",
    "import evolution\n",
    "\n",
    "import numpy as np\n",
    "import matplotlib.pyplot as plt\n",
    "import cv2"
   ]
  }
 ],
 "metadata": {
  "interpreter": {
   "hash": "5224275e57f2d7280ff183f5ab68c95f7a46add83e6e4bcb45e60b126a430ed9"
  },
  "kernelspec": {
   "display_name": "Python 3.9.12 64-bit",
   "language": "python",
   "name": "python3"
  },
  "language_info": {
   "codemirror_mode": {
    "name": "ipython",
    "version": 3
   },
   "file_extension": ".py",
   "mimetype": "text/x-python",
   "name": "python",
   "nbconvert_exporter": "python",
   "pygments_lexer": "ipython3",
   "version": "3.9.12"
  },
  "orig_nbformat": 4
 },
 "nbformat": 4,
 "nbformat_minor": 2
}
