{
 "cells": [
  {
   "cell_type": "code",
   "execution_count": null,
   "metadata": {},
   "outputs": [],
   "source": [
    "import asymetrie\n",
    "import bords\n",
    "import couleur\n",
    "import diametre\n",
    "import evolution\n",
    "\n",
    "import numpy as np\n",
    "import matplotlib.pyplot as plt\n",
    "import cv2"
   ]
  }
 ],
 "metadata": {
  "interpreter": {
   "hash": "5224275e57f2d7280ff183f5ab68c95f7a46add83e6e4bcb45e60b126a430ed9"
  },
  "kernelspec": {
   "display_name": "Python 3.9.12 64-bit",
   "language": "python",
   "name": "python3"
  },
  "language_info": {
   "name": "python",
   "version": "3.9.12"
  },
  "orig_nbformat": 4
 },
 "nbformat": 4,
 "nbformat_minor": 2
}
